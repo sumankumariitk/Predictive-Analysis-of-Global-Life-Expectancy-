{
 "cells": [
  {
   "cell_type": "code",
   "execution_count": null,
   "metadata": {},
   "outputs": [],
   "source": [
    "import numpy as np\n",
    "from sklearn import datasets, linear_model\n",
    "from sklearn.metrics import mean_squared_error, r2_score\n",
    "import pandas as pd\n",
    "import io\n",
    "\n",
    "\n",
    "# Import label encoder\n",
    "from sklearn import preprocessing\n",
    "  "
   ]
  },
  {
   "cell_type": "code",
   "execution_count": null,
   "metadata": {},
   "outputs": [],
   "source": [
    "df = pd.read_csv('Life Expectancy Data.csv')"
   ]
  },
  {
   "cell_type": "code",
   "execution_count": null,
   "metadata": {},
   "outputs": [],
   "source": [
    "# label_encoder object knows \n",
    "# how to understand word labels.\n",
    "label_encoder = preprocessing.LabelEncoder()\n",
    "\n",
    "# Encode labels in column 'Country'.\n",
    "df['Country']= label_encoder.fit_transform(df['Country'])\n",
    "df['Status'].value_counts()\n",
    "df['Status']= label_encoder.fit_transform(df['Status'])\n",
    "\n",
    "df = df.fillna(df.mean())\n",
    "\n",
    "from sklearn.model_selection import train_test_split\n",
    "train, test = train_test_split(df, test_size=0.2)\n",
    "\n",
    "train_x = train.loc[:, train.columns != \"Life expectancy \"]\n",
    "test_x = test.loc[:, test.columns != \"Life expectancy \"]\n",
    "train_y = train[\"Life expectancy \"]\n",
    "test_y = test[\"Life expectancy \"]\n",
    "\n",
    "model = linear_model.LinearRegression()\n",
    "model.fit(train_x, train_y)"
   ]
  },
  {
   "cell_type": "code",
   "execution_count": null,
   "metadata": {},
   "outputs": [],
   "source": [
    "print(model.coef_)"
   ]
  }
 ],
 "metadata": {
  "language_info": {
   "name": "python"
  },
  "orig_nbformat": 4
 },
 "nbformat": 4,
 "nbformat_minor": 2
}
